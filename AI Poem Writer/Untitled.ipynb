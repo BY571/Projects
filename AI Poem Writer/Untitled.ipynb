{
 "cells": [
  {
   "cell_type": "code",
   "execution_count": 52,
   "metadata": {},
   "outputs": [
    {
     "ename": "ImportError",
     "evalue": "No module named 'keras'",
     "output_type": "error",
     "traceback": [
      "\u001b[0;31m---------------------------------------------------------------------------\u001b[0m",
      "\u001b[0;31mImportError\u001b[0m                               Traceback (most recent call last)",
      "\u001b[0;32m<ipython-input-52-dd9f39e4f2c1>\u001b[0m in \u001b[0;36m<module>\u001b[0;34m()\u001b[0m\n\u001b[1;32m      1\u001b[0m \u001b[0;32mimport\u001b[0m \u001b[0mpandas\u001b[0m \u001b[0;32mas\u001b[0m \u001b[0mpd\u001b[0m\u001b[0;34m\u001b[0m\u001b[0m\n\u001b[1;32m      2\u001b[0m \u001b[0;32mimport\u001b[0m \u001b[0mglob\u001b[0m\u001b[0;34m\u001b[0m\u001b[0m\n\u001b[0;32m----> 3\u001b[0;31m \u001b[0;32mimport\u001b[0m \u001b[0mkeras\u001b[0m\u001b[0;34m\u001b[0m\u001b[0m\n\u001b[0m",
      "\u001b[0;31mImportError\u001b[0m: No module named 'keras'"
     ]
    }
   ],
   "source": [
    "import pandas as pd\n",
    "import glob\n",
    "import keras"
   ]
  },
  {
   "cell_type": "code",
   "execution_count": 49,
   "metadata": {},
   "outputs": [],
   "source": [
    "dic = []"
   ]
  },
  {
   "cell_type": "code",
   "execution_count": 50,
   "metadata": {},
   "outputs": [],
   "source": [
    "# Read POEMS and Make DICTIONARY\n",
    "# IMPROVE: Delete \",\" and ','\n",
    "dic = []\n",
    "for file in glob.glob(\"Poems/*.txt\"):\n",
    "    #print(file)\n",
    "    with open(file) as text:\n",
    "        for line in text:\n",
    "            if line.strip() == '': \n",
    "                continue\n",
    "            dic.append(line.strip())"
   ]
  },
  {
   "cell_type": "code",
   "execution_count": 51,
   "metadata": {
    "scrolled": true
   },
   "outputs": [
    {
     "data": {
      "text/plain": [
       "['Who rides so late through the wind and night?',\n",
       " 'It’s a father with his child so light:',\n",
       " 'He clasps the boy close in his arms,',\n",
       " 'Holds him fast, and keeps him warm.',\n",
       " '‘My son, why hide your face, all scared? –',\n",
       " '‘Don’t you see, Father, the Erlking’s there,',\n",
       " 'The Alder-King with his crown and robe?’ –',\n",
       " '‘My son, it’s the trail of mist that flows’. –',\n",
       " '‘Come, dear child, come along with me!',\n",
       " 'The games we’ll play will be fine and lovely:',\n",
       " 'There’s many a bright flower by the water,',\n",
       " 'Many gold garments has my Mother.’',\n",
       " '‘And Father, my Father, can’t you hear',\n",
       " 'What the Erlking’s whispering in my ear?’ –',\n",
       " '‘Peace, peace, my child, you’re listening',\n",
       " 'To those dry leaves rustling in the wind.’-',\n",
       " '‘Fine lad, won’t you come along with me?',\n",
       " 'My lovely daughters your slaves shall be:',\n",
       " 'My daughters dance every night, and they',\n",
       " 'Will rock you, sing you, dance you away.’',\n",
       " '‘And Father, my Father, can’t you see where',\n",
       " 'The Erlking’s daughters stand shadowy there? –',\n",
       " '‘My Son, my Son, I can see them plain:',\n",
       " 'It’s the ancient Willow-trees shining grey.’',\n",
       " '‘I love you, I’m charmed by your lovely form:',\n",
       " 'And if you’re not willing, I’ll have to use force.’',\n",
       " '‘Father, my Father, he’s gripped me at last!',\n",
       " 'The Erlking’s hurting me, holding me fast! –',\n",
       " 'The Father shudders, faster he rides,',\n",
       " 'Holding the moaning child so tight,',\n",
       " 'Reaching the house, in fear and dread:',\n",
       " 'But in his arms the child lies dead.',\n",
       " 'If you think you are beaten, you are;',\n",
       " \"If you think you dare not, you don't;\",\n",
       " \"If you'd like to win, but think you can't,\",\n",
       " \"It's almost a cinch you won't.\",\n",
       " \"If you think you'll lose, you're lost,\",\n",
       " 'For out in the word we find',\n",
       " \"Success begins with a fellow's will,\",\n",
       " \"It's all in the state of mind.\",\n",
       " \"If you think you're outcasted, you are;\",\n",
       " \"You've got to think high to rise.\",\n",
       " \"You've got to be sure of yourself before\",\n",
       " 'You can ever win a prize.',\n",
       " \"Life's battles don't always go\",\n",
       " 'To the stronger or faster man;',\n",
       " 'But soon or late the man who wins',\n",
       " 'Is the man who thinks he can.',\n",
       " 'You who are from Heaven above',\n",
       " 'Calming all our pain and sorrow,',\n",
       " 'Him who’s spirit’s doubly hurt,',\n",
       " 'Renewing, with a double measure.',\n",
       " 'Oh, I’m weary of life’s urging!',\n",
       " 'Why, now, all this joy and pain?',\n",
       " 'Sweetest Peace,',\n",
       " 'Flood: oh flood my heart again!',\n",
       " 'Eros, what have we here! An hourglass in each of your hands!',\n",
       " 'What? Frivolous god, are you doubly measuring time?',\n",
       " '‘The hours of lovers apart flow slowly through one:',\n",
       " 'For lovers together the hours through the second one fly.’',\n",
       " 'Who has never eaten his bread with tears,',\n",
       " 'Who has never, through night’s sorrowful hours,',\n",
       " 'Sat on his bed and wept with fear,',\n",
       " 'He knows not you, you heavenly powers.',\n",
       " 'You lead us into life, and then',\n",
       " 'Your Will leads us on, into sin,',\n",
       " 'So you deliver us to pain:',\n",
       " 'On Earth all error’s paid again.']"
      ]
     },
     "execution_count": 51,
     "metadata": {},
     "output_type": "execute_result"
    }
   ],
   "source": [
    "dic"
   ]
  },
  {
   "cell_type": "code",
   "execution_count": null,
   "metadata": {},
   "outputs": [],
   "source": []
  },
  {
   "cell_type": "code",
   "execution_count": null,
   "metadata": {},
   "outputs": [],
   "source": []
  },
  {
   "cell_type": "code",
   "execution_count": null,
   "metadata": {},
   "outputs": [],
   "source": []
  }
 ],
 "metadata": {
  "kernelspec": {
   "display_name": "Python 3",
   "language": "python",
   "name": "python3"
  },
  "language_info": {
   "codemirror_mode": {
    "name": "ipython",
    "version": 3
   },
   "file_extension": ".py",
   "mimetype": "text/x-python",
   "name": "python",
   "nbconvert_exporter": "python",
   "pygments_lexer": "ipython3",
   "version": "3.5.2"
  }
 },
 "nbformat": 4,
 "nbformat_minor": 2
}
