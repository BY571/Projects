{
 "cells": [
  {
   "cell_type": "code",
   "execution_count": 1,
   "metadata": {
    "collapsed": true
   },
   "outputs": [],
   "source": [
    "import cv2\n",
    "import numpy as np \n",
    "import glob"
   ]
  },
  {
   "cell_type": "code",
   "execution_count": 5,
   "metadata": {
    "collapsed": true
   },
   "outputs": [],
   "source": [
    "images = [cv2.imread(file) for file in glob.glob(\"Images/*.jpg\")]\n",
    "images_r = [cv2.imread(file) for file in glob.glob(\"Images_r/*.jpg\")]"
   ]
  },
  {
   "cell_type": "code",
   "execution_count": 6,
   "metadata": {
    "collapsed": true
   },
   "outputs": [],
   "source": [
    "a = 0\n",
    "b = 0\n",
    "for i in images:\n",
    "    img = cv2.resize(i, (100,100),interpolation = cv2.INTER_LINEAR)\n",
    "    #img = norm(img)\n",
    "    cv2.imwrite(\"Deckel/Kanaldeckela{}.png\".format(a), img)\n",
    "    a+=1\n",
    "for i in images_r:\n",
    "    img = cv2.resize(i, (100,100),interpolation = cv2.INTER_LINEAR)\n",
    "    #img = norm(img)\n",
    "    cv2.imwrite(\"Random/Randomb{}.png\".format(b), img)\n",
    "    b+=1"
   ]
  }
 ],
 "metadata": {
  "kernelspec": {
   "display_name": "Python 3",
   "language": "python",
   "name": "python3"
  },
  "language_info": {
   "codemirror_mode": {
    "name": "ipython",
    "version": 3
   },
   "file_extension": ".py",
   "mimetype": "text/x-python",
   "name": "python",
   "nbconvert_exporter": "python",
   "pygments_lexer": "ipython3",
   "version": "3.6.1"
  }
 },
 "nbformat": 4,
 "nbformat_minor": 2
}
